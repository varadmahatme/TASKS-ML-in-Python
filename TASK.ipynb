{
  "nbformat": 4,
  "nbformat_minor": 0,
  "metadata": {
    "colab": {
      "name": "TASK.ipynb",
      "provenance": [],
      "authorship_tag": "ABX9TyPQLB4ZV8ncDHtCJtSqgsPD",
      "include_colab_link": true
    },
    "kernelspec": {
      "name": "python3",
      "display_name": "Python 3"
    },
    "language_info": {
      "name": "python"
    }
  },
  "cells": [
    {
      "cell_type": "markdown",
      "metadata": {
        "id": "view-in-github",
        "colab_type": "text"
      },
      "source": [
        "<a href=\"https://colab.research.google.com/github/varadmahatme/TASKS-ML-in-Python/blob/main/TASK.ipynb\" target=\"_parent\"><img src=\"https://colab.research.google.com/assets/colab-badge.svg\" alt=\"Open In Colab\"/></a>"
      ]
    },
    {
      "cell_type": "markdown",
      "source": [
        "Q 1)\n",
        "Given an array of integers nums and an integer target, return indices of the two numbers such that\n",
        "they add up to target. You may assume that each input would have exactly one solution, and you\n",
        "may not use the same element twice. You can return the answer in any order.\n",
        "\n",
        "Sample1:\n",
        "Input: nums = [2,7,11,15], target = 9\n",
        "Output: [0,1]\n",
        "Explanation: Because nums[0] + nums[1] == 9, we return [0, 1].\n",
        "Sample2:\n",
        "Input: nums = [3,2,4], target = 6\n",
        "Output: [1,2]"
      ],
      "metadata": {
        "id": "Us3aE8dHZ5KF"
      }
    },
    {
      "cell_type": "markdown",
      "source": [
        ""
      ],
      "metadata": {
        "id": "Xcb9Py3CzfyM"
      }
    },
    {
      "cell_type": "code",
      "execution_count": null,
      "metadata": {
        "colab": {
          "base_uri": "https://localhost:8080/"
        },
        "id": "pvSh_IVEZV-t",
        "outputId": "72b356c4-8c4a-40e8-c9c1-4ee2ff558ae4"
      },
      "outputs": [
        {
          "output_type": "stream",
          "name": "stdout",
          "text": [
            "Enter number of elements : 3\n",
            "enter the target number6\n",
            "enter the 3 elements\n",
            "3\n",
            "2\n",
            "4\n",
            "entered list is \n",
            " [3, 2, 4]\n",
            "output \n",
            " [1, 2]\n"
          ]
        }
      ],
      "source": [
        "\t\t\t\t\t\t\t\t\t\t\t\t\t\t\t\t\t\t\t\t\t\t\t\t\t\t\t\t\t\t\t\t\t\t\t# creating an empty list\n",
        "list = []\n",
        "list1 = []\n",
        "\t\t\t\t\t\t\t\t\t\t\t\t\t\t\t\t\t\t\t\t\t\t\t\t\t\t\t\t\t\t\t\t\t\t\t# number of elements as input\n",
        "n = int(input(\"Enter number of elements : \"))\n",
        "target = int(input(\"enter the target number\")) \t\t\t\t\t\t\t\t\t\t\t\t#input the target number\n",
        "print(\"enter the\",n, \"elements\")\n",
        "\t\t\t\t\t\t\t\t\t\t\t\t\t\t\t\t\t\t\t\t\t\t\t\t\t\t\t\t\t\n",
        "for i in range(0, n):\t\t\t\t\t\t\t\t\t\t\t\t\t\t\t\t\t\t\t\t\t\t\t\t\t# iterating till the range\n",
        "\tele = int(input())\n",
        "\n",
        "\tlist.append(ele) \t\t\t\t\t\t\t\t\t\t\t\t\t\t\t\t\t\t\t\t\t\t\t\t\t\t# adding the element\n",
        "\t\n",
        "print(\"entered list is \\n\",list)\n",
        "\n",
        "for i in range(len(list)):                     \t\t\t\t\t\t\t\t\t\t\t\t#outer i loop till length of list                     \n",
        "    for j in range(i+1, len(list)):\t\t\t\t\t\t \t\t\t\t\t\t\t\t\t\t\t\t#inner j loop from i+1 till length of list\n",
        "        if list[i]+list[j] == target:\t\t\t\t\t\t\t\t\t\t\t\t\t\t\t\t\t#check condition if numbers add upto target\t\n",
        "            list1.append(i);list1.append(j);print(\"output \\n\",list1)\t#print the index of combination\n",
        "\t\t\t"
      ]
    },
    {
      "cell_type": "code",
      "source": [
        "\n",
        "target = int(input(\"enter the target number\")) #input the target number\n",
        "for i in range(len(list)):                     #outer i loop till length of list                     \n",
        "    for j in range(i+1, len(list)):            \n",
        "        if list[i]+list[j] == target:\n",
        "            print(list[i], list[j])"
      ],
      "metadata": {
        "colab": {
          "base_uri": "https://localhost:8080/"
        },
        "id": "0NgDnfk23xhO",
        "outputId": "63374f32-dd91-4e73-d847-9a6b5488b67a"
      },
      "execution_count": null,
      "outputs": [
        {
          "output_type": "stream",
          "name": "stdout",
          "text": [
            "enter the target number5\n",
            "1 4\n",
            "2 3\n"
          ]
        }
      ]
    },
    {
      "cell_type": "markdown",
      "source": [
        ""
      ],
      "metadata": {
        "id": "fQIsyeFCtVg4"
      }
    },
    {
      "cell_type": "markdown",
      "source": [
        "(Q 2)\n",
        "Write a program that takes an unsigned integer and returns the number of '1' bits it has (also known\n",
        "as the Hamming weight).\n",
        "Sample1:\n",
        "Input: n = 00000000000000000000000000001011\n",
        "Output: 3\n",
        "Explanation: The input binary string 00000000000000000000000000001011 has a total of three '1'\n",
        "bits.\n",
        "Sample2:\n",
        "Input: n = 11111111111111111111111111111101\n",
        "Output: 31\n",
        "Explanation: The input binary string 11111111111111111111111111111101 has a total of thirty one\n",
        "'1' bits."
      ],
      "metadata": {
        "id": "QuGgkgBhtfI-"
      }
    },
    {
      "cell_type": "code",
      "source": [
        "n = int(input(\"Enter the binary number\"))                 #enter the binary number                                                \n",
        "n = str(n)                                                #typecast to string\n",
        "\n",
        "count = 0                                                 #initialize the count to 0\n",
        "for i in n:                                               #start for loop in string n\n",
        " if i == \"1\":                                             #check condition if 1 is encountered\n",
        "   count+=1                                               #increment counter\n",
        "print(\"output: \",count)                                   #print the count\n"
      ],
      "metadata": {
        "colab": {
          "base_uri": "https://localhost:8080/"
        },
        "id": "zkmVMgnJthgC",
        "outputId": "6d192cfe-efea-41e5-daaf-462839d8257f"
      },
      "execution_count": null,
      "outputs": [
        {
          "output_type": "stream",
          "name": "stdout",
          "text": [
            "Enter the binary number11111111111111111111111111111101\n",
            "output:  31\n"
          ]
        }
      ]
    },
    {
      "cell_type": "code",
      "source": [
        ""
      ],
      "metadata": {
        "id": "Q-BFPJ5nzkQK"
      },
      "execution_count": null,
      "outputs": []
    },
    {
      "cell_type": "markdown",
      "source": [
        "for i in range(len(list)):\n",
        "    num = target-list[i]\n",
        "    for j in range(i+1, len(list)):\n",
        "        if list[j] == num:\n",
        "            print (list[i], list[j])\n",
        "PSEUDO code\n",
        "for i going till length of list\n",
        "target=num +list OR simply num = target - list[i]\n",
        "  for j going from i+1 to length of list\n",
        "  if the list[j] element is equal to the num \n",
        "    then print the elements"
      ],
      "metadata": {
        "id": "6OUGX3m-z-km"
      }
    },
    {
      "cell_type": "markdown",
      "source": [
        ""
      ],
      "metadata": {
        "id": "eJB3tpgT3_JJ"
      }
    },
    {
      "cell_type": "code",
      "source": [
        "import re\n",
        "\n",
        "python_file = 'file.py'\n",
        "work_file = None\n",
        "\n",
        "basic_conversion_rules = {\"for\": \"FOR\", \"=\": \"TO\", \"if\": \"IF\", \"==\": \"EQUALS\", \"while\": \"WHILE\", \"until\": \"UNTIL\", \"import\": \"IMPORT\", \"class\": \"DEFINE CLASS\", \"def\": \"DEFINE FUNCTION\", \"else:\": \"ELSE:\", \"elif\": \"ELSEIF\", \"except:\": \"EXCEPT:\", \"try:\": \"TRY:\", \"pass\": \"PASS\", \"in\": \"IN\"}\n",
        "prefix_conversion_rules = {\"=\": \"SET \", \"#F\": \"CALL \"}\n",
        "advanced_conversion_rules = {\"print\": \"OUTPUT\", \"return\": \"RETURN\", \"input\": \"INPUT\"}\n",
        "\n",
        "def f2list(to_list):\n",
        "    return to_list.readlines()\n",
        "\n",
        "def l2pseudo(to_pseudo):\n",
        "    for line in to_pseudo:\n",
        "        line_index = to_pseudo.index(line)\n",
        "        line = str(line)\n",
        "        line = re.split(r'(\\s+)', line)\n",
        "        for key, value in prefix_conversion_rules.items():\n",
        "            if key in line:\n",
        "                if not str(line[0]) == '':\n",
        "                    line[0] = value + line[0]\n",
        "                else:\n",
        "                    line[2] = value + line[2]\n",
        "        for key, value in basic_conversion_rules.items():\n",
        "            for word in line:\n",
        "                if key == str(word):\n",
        "                    line[line.index(word)] = value\n",
        "        for key, value in advanced_conversion_rules.items():\n",
        "            for word in line:\n",
        "                line[line.index(word)] = word.replace(key, value)\n",
        "        for key, value in prefix_conversion_rules.items():\n",
        "            for word in line:\n",
        "                if word == key:\n",
        "                    del line[line.index(word)]\n",
        "        to_pseudo[line_index]= \"\".join(line)\n",
        "    return(to_pseudo)\n",
        "\n",
        "def p2file(to_file):\n",
        "    file = open(python_file + '_pseudo.txt', 'w')\n",
        "    for line in to_file:\n",
        "        print(line, file=file)\n",
        "\n",
        "def main():\n",
        "    main_file = open(python_file, 'r+')\n",
        "    work_file = f2list(main_file)\n",
        "    work_file = l2pseudo(work_file)\n",
        "    p2file(work_file)\n",
        "    \n",
        "\n"
      ],
      "metadata": {
        "id": "FypLkC503y4O"
      },
      "execution_count": null,
      "outputs": []
    },
    {
      "cell_type": "code",
      "source": [
        "#PSEUDO CODE\t\t\t\n",
        "\n",
        "''' \t\t\t\t\t\t\t\t\t\t\t\t\t\t\t\t\t\t\t\n",
        "list = []                                                 # creating two empty lists\n",
        "list1 = []\n",
        "\t\t\t\t\t\t\t\t\t\t\t\t\t\t\t\t\t\t\t\t\t\t\t\t\t\t\t\t\t# number of elements as input\n",
        "n = input(\"Enter number of elements : \")\n",
        "target = input(\"enter the target number\")\t\t\t\t        \t#input the target number\n",
        "print(\"enter the\",n, \"elements\")\n",
        "\n",
        "\n",
        "\t\t\t\t\t\t\t\t\t\t\t\t\t\t\t\t\t\t\t\t\t\t\t\t\t\t\t\t\t\n",
        "for i going from 0 to n-1\t\t\t\t\t\t\t\t\t\t\t\t\t\t\t\t\t# iterating till the range\n",
        "\tele = input int_value\n",
        "\n",
        "\tappend(ele) \t\t\t\t\t\t\t\t\t\t\t\t\t\t\t\t\t\t\t    \t# adding the element to list\n",
        "\t\n",
        "print(list)\n",
        "\n",
        "for i going from (0 to len(list))                     \t\t#outer i loop till length of list                     \n",
        "    for j going from(i+1 to len(list))\t\t\t\t\t\t \t\t\t\t#inner j loop from i+1 till length of list\n",
        "        if list[i]+list[j] == target\t\t\t\t\t\t\t\t\t\t\t#check condition if numbers add upto target\t\n",
        "            append(i)                                   \t#append to list\n",
        "            append(j)\n",
        "            '''"
      ],
      "metadata": {
        "id": "kBNwpcjJhLWO"
      },
      "execution_count": null,
      "outputs": []
    },
    {
      "cell_type": "code",
      "source": [
        "#PSEUDO CODE\n",
        "'''\n",
        "n = input(\"Enter the int binary number\")               #enter the binary number                                                \n",
        "n = str(n)                                             #typecast to string\n",
        "\n",
        "count = 0                                              #initialize the count to 0\n",
        "for i going through string n                           #start for loop in string n\n",
        " if i == \"1\":                                          #check condition if 1 is encountered\n",
        "   count=count+1                                       #increment counter\n",
        "print(\"output: \",count)                                #print the count\n",
        "\n",
        "'''"
      ],
      "metadata": {
        "id": "K2xQFHEcvHHQ"
      },
      "execution_count": null,
      "outputs": []
    },
    {
      "cell_type": "markdown",
      "source": [
        "TASK 2"
      ],
      "metadata": {
        "id": "99GMN9HkOYFA"
      }
    },
    {
      "cell_type": "code",
      "source": [
        "import numpy as np\n",
        "list_1=[1,2,3,4]\n",
        "x=np.array(list_1) \n",
        "print(x)"
      ],
      "metadata": {
        "colab": {
          "base_uri": "https://localhost:8080/"
        },
        "id": "GvMDpYh8OWnB",
        "outputId": "5859dc36-18db-4c80-fb6f-6512bfbaec66"
      },
      "execution_count": null,
      "outputs": [
        {
          "output_type": "stream",
          "name": "stdout",
          "text": [
            "[1 2 3 4]\n"
          ]
        }
      ]
    },
    {
      "cell_type": "code",
      "source": [
        "import numpy as np\n",
        "list_1=[-1,2,3,4,5,6,'HELLO WORLD',0,None] \n",
        "x=np.array(list_1,dtype=bool) \n",
        "print(x)"
      ],
      "metadata": {
        "colab": {
          "base_uri": "https://localhost:8080/"
        },
        "id": "amb-yyLUO074",
        "outputId": "fef2cf74-82e6-459a-ddfe-accece25d456"
      },
      "execution_count": null,
      "outputs": [
        {
          "output_type": "stream",
          "name": "stdout",
          "text": [
            "[ True  True  True  True  True  True  True False False]\n"
          ]
        }
      ]
    },
    {
      "cell_type": "code",
      "source": [
        "import numpy as np\n",
        "list_1=np.array([1,2,3,4,5,6,7,8])\n",
        "list_2=np.where(list_1 < 30,list_1+10,list_1)\n",
        "print(list_2)"
      ],
      "metadata": {
        "colab": {
          "base_uri": "https://localhost:8080/"
        },
        "id": "FF4l7YyLPW77",
        "outputId": "d0221a79-27bc-48d7-8bff-9cbcb9386869"
      },
      "execution_count": null,
      "outputs": [
        {
          "output_type": "stream",
          "name": "stdout",
          "text": [
            "[11 12 13 14 15 16 17 18]\n"
          ]
        }
      ]
    },
    {
      "cell_type": "code",
      "source": [
        "import numpy as np\n",
        "x=[1,2,3,4,5,6,7,8,9]\n",
        "y=np.array(x)\n",
        "op=y.reshape(3,3)\n",
        "print(op)"
      ],
      "metadata": {
        "colab": {
          "base_uri": "https://localhost:8080/"
        },
        "id": "Euyj5FyHV3Bt",
        "outputId": "471b4e25-e1e6-4919-956e-6bb8ea59d0e8"
      },
      "execution_count": null,
      "outputs": [
        {
          "output_type": "stream",
          "name": "stdout",
          "text": [
            "[[1 2 3]\n",
            " [4 5 6]\n",
            " [7 8 9]]\n"
          ]
        }
      ]
    },
    {
      "cell_type": "code",
      "source": [
        "import numpy as np\n",
        "x=np.array([1,2,3,4])\n",
        "y=np.array([5,6,7,8])\n",
        "np.vstack((x,y))"
      ],
      "metadata": {
        "colab": {
          "base_uri": "https://localhost:8080/"
        },
        "id": "76HmmoKjWI4s",
        "outputId": "3a180e71-e43b-4e2a-d925-cf9d838da797"
      },
      "execution_count": null,
      "outputs": [
        {
          "output_type": "execute_result",
          "data": {
            "text/plain": [
              "array([[1, 2, 3, 4],\n",
              "       [5, 6, 7, 8]])"
            ]
          },
          "metadata": {},
          "execution_count": 9
        }
      ]
    },
    {
      "cell_type": "code",
      "source": [
        "import numpy as np\n",
        "x=np.array([2,4,6,8,10])\n",
        "z=np.repeat(x,3)\n",
        "print(z)"
      ],
      "metadata": {
        "colab": {
          "base_uri": "https://localhost:8080/"
        },
        "id": "TKKGGi68Wn89",
        "outputId": "e7cf76ff-b122-4f50-8ac0-b2cddd3220e8"
      },
      "execution_count": null,
      "outputs": [
        {
          "output_type": "stream",
          "name": "stdout",
          "text": [
            "[ 2  2  2  4  4  4  6  6  6  8  8  8 10 10 10]\n"
          ]
        }
      ]
    },
    {
      "cell_type": "code",
      "source": [
        "import numpy as np\n",
        "x=np.array([2,3,1,4,6,26,56,7]) \n",
        "y=np.array([2,370,2,3,26,9,10,11]) \n",
        "np.intersect1d(x,y)"
      ],
      "metadata": {
        "colab": {
          "base_uri": "https://localhost:8080/"
        },
        "id": "5M7ab0FJW0xC",
        "outputId": "b510f71a-65f0-45b1-d97b-41ddf531ca0d"
      },
      "execution_count": null,
      "outputs": [
        {
          "output_type": "execute_result",
          "data": {
            "text/plain": [
              "array([ 2,  3, 26])"
            ]
          },
          "metadata": {},
          "execution_count": 11
        }
      ]
    },
    {
      "cell_type": "code",
      "source": [
        "import numpy as np\n",
        "x=np.array([1,2,3,4,5])\n",
        "y=np.array([2,4,6,8,10])\n",
        "np.setdiff1d(x,y)"
      ],
      "metadata": {
        "colab": {
          "base_uri": "https://localhost:8080/"
        },
        "id": "PxywZH1cXOGo",
        "outputId": "80f432f8-0f66-4f78-cece-6ea767389507"
      },
      "execution_count": null,
      "outputs": [
        {
          "output_type": "execute_result",
          "data": {
            "text/plain": [
              "array([1, 3, 5])"
            ]
          },
          "metadata": {},
          "execution_count": 12
        }
      ]
    },
    {
      "cell_type": "code",
      "source": [
        "import numpy as np\n",
        "x=np.arange(20)\n",
        "print(x)\n",
        "np.where((x>=5) & (x<10))"
      ],
      "metadata": {
        "colab": {
          "base_uri": "https://localhost:8080/"
        },
        "id": "g7p3hiGNYgh7",
        "outputId": "64ff2032-eee9-4b0e-f0d0-af2d7f9761ad"
      },
      "execution_count": null,
      "outputs": [
        {
          "output_type": "stream",
          "name": "stdout",
          "text": [
            "[ 0  1  2  3  4  5  6  7  8  9 10 11 12 13 14 15 16 17 18 19]\n"
          ]
        },
        {
          "output_type": "execute_result",
          "data": {
            "text/plain": [
              "(array([5, 6, 7, 8, 9]),)"
            ]
          },
          "metadata": {},
          "execution_count": 14
        }
      ]
    },
    {
      "cell_type": "code",
      "source": [
        "import numpy as np\n",
        "e=np.random.randint(low=5, high=10,size=(2,2)) \n",
        "print(e)"
      ],
      "metadata": {
        "colab": {
          "base_uri": "https://localhost:8080/"
        },
        "id": "-dE6-qvpYzMB",
        "outputId": "b143a1ae-48dd-46f2-ca4b-9fce0d5499f5"
      },
      "execution_count": null,
      "outputs": [
        {
          "output_type": "stream",
          "name": "stdout",
          "text": [
            "[[6 6]\n",
            " [6 7]]\n"
          ]
        }
      ]
    },
    {
      "cell_type": "code",
      "source": [
        "import numpy as np \n",
        "x=np.array([2,5,6,8,11,13,14])\n",
        "a=np.mean(x)\n",
        "b=np.median(x)\n",
        "c=np.std(x)\n",
        "print(a)\n",
        "print(b)\n",
        "print(c)"
      ],
      "metadata": {
        "colab": {
          "base_uri": "https://localhost:8080/"
        },
        "id": "GZwUCUUuZFZ1",
        "outputId": "869f2e1d-d3b0-44cf-ad57-66b586324495"
      },
      "execution_count": null,
      "outputs": [
        {
          "output_type": "stream",
          "name": "stdout",
          "text": [
            "8.428571428571429\n",
            "8.0\n",
            "4.10077145554495\n"
          ]
        }
      ]
    },
    {
      "cell_type": "code",
      "source": [
        "import numpy as np \n",
        "x=np.array([2,4,5,7,8,9,1,2,3]) \n",
        "y=(x-np.min(x))/(np.max(x)-np.min(x)) \n",
        "print(y)"
      ],
      "metadata": {
        "colab": {
          "base_uri": "https://localhost:8080/"
        },
        "id": "SLuhjEr_ZVc4",
        "outputId": "8b95d7dc-3e34-4143-9bbe-b4924190bee7"
      },
      "execution_count": null,
      "outputs": [
        {
          "output_type": "stream",
          "name": "stdout",
          "text": [
            "[0.125 0.375 0.5   0.75  0.875 1.    0.    0.125 0.25 ]\n"
          ]
        }
      ]
    },
    {
      "cell_type": "code",
      "source": [
        " import numpy as np \n",
        " x=np.array([2,np.nan,4,6,np.nan,10]) \n",
        " print(np.isnan(x))"
      ],
      "metadata": {
        "colab": {
          "base_uri": "https://localhost:8080/"
        },
        "id": "0eWD9a9uZnz-",
        "outputId": "3df17324-ceb2-4340-b2c7-3defc1bb3b2c"
      },
      "execution_count": null,
      "outputs": [
        {
          "output_type": "stream",
          "name": "stdout",
          "text": [
            "[False  True False False  True False]\n"
          ]
        }
      ]
    },
    {
      "cell_type": "code",
      "source": [
        "import numpy as np \n",
        "x=np.array([2,np.nan,4,6,np.nan,10])  \n",
        "y=np.nan_to_num(x)\n",
        "print(y)"
      ],
      "metadata": {
        "colab": {
          "base_uri": "https://localhost:8080/"
        },
        "id": "R7X3_96MZ6ND",
        "outputId": "2aed8ed2-a031-4367-d014-4fc114c2dd77"
      },
      "execution_count": null,
      "outputs": [
        {
          "output_type": "stream",
          "name": "stdout",
          "text": [
            "[ 2.  0.  4.  6.  0. 10.]\n"
          ]
        }
      ]
    },
    {
      "cell_type": "code",
      "source": [
        "# Import the iris dataset keeping the text intact.\n",
        "url='https://archive.ics.uci.edu/ml/machine-learning-databases/iris/iris.data'\n",
        "iris = np.genfromtxt (url, delimiter=',', dtype='object')\n",
        "#=› to retain the species, a text field, set dtype to object\n",
        "# if set type=None, 1d array of tuples would have been returned.\n",
        "names = ('sepallength*, \"sepalwidth', 'petallength', 'petalwidth', 'species')\n",
        "# print the first 3 rows\n",
        "iris[:3]"
      ],
      "metadata": {
        "colab": {
          "base_uri": "https://localhost:8080/"
        },
        "id": "c8ZvVHFFdGlO",
        "outputId": "9d773b2a-c13b-43bf-96db-3ce42de72405"
      },
      "execution_count": null,
      "outputs": [
        {
          "output_type": "execute_result",
          "data": {
            "text/plain": [
              "array([[b'5.1', b'3.5', b'1.4', b'0.2', b'Iris-setosa'],\n",
              "       [b'4.9', b'3.0', b'1.4', b'0.2', b'Iris-setosa'],\n",
              "       [b'4.7', b'3.2', b'1.3', b'0.2', b'Iris-setosa']], dtype=object)"
            ]
          },
          "metadata": {},
          "execution_count": 26
        }
      ]
    },
    {
      "cell_type": "code",
      "source": [
        "# LAB TASK 3 PRACTICE"
      ],
      "metadata": {
        "id": "p4_knQkVPhNY"
      },
      "execution_count": null,
      "outputs": []
    },
    {
      "cell_type": "code",
      "source": [
        "pip install imblearn"
      ],
      "metadata": {
        "colab": {
          "base_uri": "https://localhost:8080/"
        },
        "id": "4RYHzY9yPjbl",
        "outputId": "f538bc5b-51e3-4a58-88ae-9e8335c9029e"
      },
      "execution_count": 2,
      "outputs": [
        {
          "output_type": "stream",
          "name": "stdout",
          "text": [
            "Requirement already satisfied: imblearn in /usr/local/lib/python3.7/dist-packages (0.0)\n",
            "Requirement already satisfied: imbalanced-learn in /usr/local/lib/python3.7/dist-packages (from imblearn) (0.8.1)\n",
            "Requirement already satisfied: joblib>=0.11 in /usr/local/lib/python3.7/dist-packages (from imbalanced-learn->imblearn) (1.1.0)\n",
            "Requirement already satisfied: numpy>=1.13.3 in /usr/local/lib/python3.7/dist-packages (from imbalanced-learn->imblearn) (1.21.5)\n",
            "Requirement already satisfied: scikit-learn>=0.24 in /usr/local/lib/python3.7/dist-packages (from imbalanced-learn->imblearn) (1.0.2)\n",
            "Requirement already satisfied: scipy>=0.19.1 in /usr/local/lib/python3.7/dist-packages (from imbalanced-learn->imblearn) (1.4.1)\n",
            "Requirement already satisfied: threadpoolctl>=2.0.0 in /usr/local/lib/python3.7/dist-packages (from scikit-learn>=0.24->imbalanced-learn->imblearn) (3.1.0)\n"
          ]
        }
      ]
    },
    {
      "cell_type": "code",
      "source": [
        "import pandas as pd\n",
        "import matplotlib.pyplot as plt\n",
        "import matplotlib as mpl\n",
        "import numpy as np\n",
        "from imblearn.over_sampling import SMOTE"
      ],
      "metadata": {
        "id": "v4qDlU_PQZXE"
      },
      "execution_count": 3,
      "outputs": []
    },
    {
      "cell_type": "code",
      "source": [
        "df  = pd.read_csv('cuisines.csv')"
      ],
      "metadata": {
        "id": "Jt53G3o8U_AF"
      },
      "execution_count": 4,
      "outputs": []
    },
    {
      "cell_type": "code",
      "source": [
        "df.head()"
      ],
      "metadata": {
        "colab": {
          "base_uri": "https://localhost:8080/",
          "height": 252
        },
        "id": "CJwBSppRVD9n",
        "outputId": "6fda5233-cd45-40cb-d0fc-d2d347e20be2"
      },
      "execution_count": 5,
      "outputs": [
        {
          "output_type": "execute_result",
          "data": {
            "text/plain": [
              "   Unnamed: 0 cuisine  almond  angelica  anise  anise_seed  apple  \\\n",
              "0          65  indian       0         0      0           0      0   \n",
              "1          66  indian       1         0      0           0      0   \n",
              "2          67  indian       0         0      0           0      0   \n",
              "3          68  indian       0         0      0           0      0   \n",
              "4          69  indian       0         0      0           0      0   \n",
              "\n",
              "   apple_brandy  apricot  armagnac  ...  whiskey  white_bread  white_wine  \\\n",
              "0             0        0         0  ...        0            0           0   \n",
              "1             0        0         0  ...        0            0           0   \n",
              "2             0        0         0  ...        0            0           0   \n",
              "3             0        0         0  ...        0            0           0   \n",
              "4             0        0         0  ...        0            0           0   \n",
              "\n",
              "   whole_grain_wheat_flour  wine  wood  yam  yeast  yogurt  zucchini  \n",
              "0                        0     0     0    0      0       0         0  \n",
              "1                        0     0     0    0      0       0         0  \n",
              "2                        0     0     0    0      0       0         0  \n",
              "3                        0     0     0    0      0       0         0  \n",
              "4                        0     0     0    0      0       1         0  \n",
              "\n",
              "[5 rows x 385 columns]"
            ],
            "text/html": [
              "\n",
              "  <div id=\"df-05fd4698-f656-4b57-8a50-da28d652ce95\">\n",
              "    <div class=\"colab-df-container\">\n",
              "      <div>\n",
              "<style scoped>\n",
              "    .dataframe tbody tr th:only-of-type {\n",
              "        vertical-align: middle;\n",
              "    }\n",
              "\n",
              "    .dataframe tbody tr th {\n",
              "        vertical-align: top;\n",
              "    }\n",
              "\n",
              "    .dataframe thead th {\n",
              "        text-align: right;\n",
              "    }\n",
              "</style>\n",
              "<table border=\"1\" class=\"dataframe\">\n",
              "  <thead>\n",
              "    <tr style=\"text-align: right;\">\n",
              "      <th></th>\n",
              "      <th>Unnamed: 0</th>\n",
              "      <th>cuisine</th>\n",
              "      <th>almond</th>\n",
              "      <th>angelica</th>\n",
              "      <th>anise</th>\n",
              "      <th>anise_seed</th>\n",
              "      <th>apple</th>\n",
              "      <th>apple_brandy</th>\n",
              "      <th>apricot</th>\n",
              "      <th>armagnac</th>\n",
              "      <th>...</th>\n",
              "      <th>whiskey</th>\n",
              "      <th>white_bread</th>\n",
              "      <th>white_wine</th>\n",
              "      <th>whole_grain_wheat_flour</th>\n",
              "      <th>wine</th>\n",
              "      <th>wood</th>\n",
              "      <th>yam</th>\n",
              "      <th>yeast</th>\n",
              "      <th>yogurt</th>\n",
              "      <th>zucchini</th>\n",
              "    </tr>\n",
              "  </thead>\n",
              "  <tbody>\n",
              "    <tr>\n",
              "      <th>0</th>\n",
              "      <td>65</td>\n",
              "      <td>indian</td>\n",
              "      <td>0</td>\n",
              "      <td>0</td>\n",
              "      <td>0</td>\n",
              "      <td>0</td>\n",
              "      <td>0</td>\n",
              "      <td>0</td>\n",
              "      <td>0</td>\n",
              "      <td>0</td>\n",
              "      <td>...</td>\n",
              "      <td>0</td>\n",
              "      <td>0</td>\n",
              "      <td>0</td>\n",
              "      <td>0</td>\n",
              "      <td>0</td>\n",
              "      <td>0</td>\n",
              "      <td>0</td>\n",
              "      <td>0</td>\n",
              "      <td>0</td>\n",
              "      <td>0</td>\n",
              "    </tr>\n",
              "    <tr>\n",
              "      <th>1</th>\n",
              "      <td>66</td>\n",
              "      <td>indian</td>\n",
              "      <td>1</td>\n",
              "      <td>0</td>\n",
              "      <td>0</td>\n",
              "      <td>0</td>\n",
              "      <td>0</td>\n",
              "      <td>0</td>\n",
              "      <td>0</td>\n",
              "      <td>0</td>\n",
              "      <td>...</td>\n",
              "      <td>0</td>\n",
              "      <td>0</td>\n",
              "      <td>0</td>\n",
              "      <td>0</td>\n",
              "      <td>0</td>\n",
              "      <td>0</td>\n",
              "      <td>0</td>\n",
              "      <td>0</td>\n",
              "      <td>0</td>\n",
              "      <td>0</td>\n",
              "    </tr>\n",
              "    <tr>\n",
              "      <th>2</th>\n",
              "      <td>67</td>\n",
              "      <td>indian</td>\n",
              "      <td>0</td>\n",
              "      <td>0</td>\n",
              "      <td>0</td>\n",
              "      <td>0</td>\n",
              "      <td>0</td>\n",
              "      <td>0</td>\n",
              "      <td>0</td>\n",
              "      <td>0</td>\n",
              "      <td>...</td>\n",
              "      <td>0</td>\n",
              "      <td>0</td>\n",
              "      <td>0</td>\n",
              "      <td>0</td>\n",
              "      <td>0</td>\n",
              "      <td>0</td>\n",
              "      <td>0</td>\n",
              "      <td>0</td>\n",
              "      <td>0</td>\n",
              "      <td>0</td>\n",
              "    </tr>\n",
              "    <tr>\n",
              "      <th>3</th>\n",
              "      <td>68</td>\n",
              "      <td>indian</td>\n",
              "      <td>0</td>\n",
              "      <td>0</td>\n",
              "      <td>0</td>\n",
              "      <td>0</td>\n",
              "      <td>0</td>\n",
              "      <td>0</td>\n",
              "      <td>0</td>\n",
              "      <td>0</td>\n",
              "      <td>...</td>\n",
              "      <td>0</td>\n",
              "      <td>0</td>\n",
              "      <td>0</td>\n",
              "      <td>0</td>\n",
              "      <td>0</td>\n",
              "      <td>0</td>\n",
              "      <td>0</td>\n",
              "      <td>0</td>\n",
              "      <td>0</td>\n",
              "      <td>0</td>\n",
              "    </tr>\n",
              "    <tr>\n",
              "      <th>4</th>\n",
              "      <td>69</td>\n",
              "      <td>indian</td>\n",
              "      <td>0</td>\n",
              "      <td>0</td>\n",
              "      <td>0</td>\n",
              "      <td>0</td>\n",
              "      <td>0</td>\n",
              "      <td>0</td>\n",
              "      <td>0</td>\n",
              "      <td>0</td>\n",
              "      <td>...</td>\n",
              "      <td>0</td>\n",
              "      <td>0</td>\n",
              "      <td>0</td>\n",
              "      <td>0</td>\n",
              "      <td>0</td>\n",
              "      <td>0</td>\n",
              "      <td>0</td>\n",
              "      <td>0</td>\n",
              "      <td>1</td>\n",
              "      <td>0</td>\n",
              "    </tr>\n",
              "  </tbody>\n",
              "</table>\n",
              "<p>5 rows × 385 columns</p>\n",
              "</div>\n",
              "      <button class=\"colab-df-convert\" onclick=\"convertToInteractive('df-05fd4698-f656-4b57-8a50-da28d652ce95')\"\n",
              "              title=\"Convert this dataframe to an interactive table.\"\n",
              "              style=\"display:none;\">\n",
              "        \n",
              "  <svg xmlns=\"http://www.w3.org/2000/svg\" height=\"24px\"viewBox=\"0 0 24 24\"\n",
              "       width=\"24px\">\n",
              "    <path d=\"M0 0h24v24H0V0z\" fill=\"none\"/>\n",
              "    <path d=\"M18.56 5.44l.94 2.06.94-2.06 2.06-.94-2.06-.94-.94-2.06-.94 2.06-2.06.94zm-11 1L8.5 8.5l.94-2.06 2.06-.94-2.06-.94L8.5 2.5l-.94 2.06-2.06.94zm10 10l.94 2.06.94-2.06 2.06-.94-2.06-.94-.94-2.06-.94 2.06-2.06.94z\"/><path d=\"M17.41 7.96l-1.37-1.37c-.4-.4-.92-.59-1.43-.59-.52 0-1.04.2-1.43.59L10.3 9.45l-7.72 7.72c-.78.78-.78 2.05 0 2.83L4 21.41c.39.39.9.59 1.41.59.51 0 1.02-.2 1.41-.59l7.78-7.78 2.81-2.81c.8-.78.8-2.07 0-2.86zM5.41 20L4 18.59l7.72-7.72 1.47 1.35L5.41 20z\"/>\n",
              "  </svg>\n",
              "      </button>\n",
              "      \n",
              "  <style>\n",
              "    .colab-df-container {\n",
              "      display:flex;\n",
              "      flex-wrap:wrap;\n",
              "      gap: 12px;\n",
              "    }\n",
              "\n",
              "    .colab-df-convert {\n",
              "      background-color: #E8F0FE;\n",
              "      border: none;\n",
              "      border-radius: 50%;\n",
              "      cursor: pointer;\n",
              "      display: none;\n",
              "      fill: #1967D2;\n",
              "      height: 32px;\n",
              "      padding: 0 0 0 0;\n",
              "      width: 32px;\n",
              "    }\n",
              "\n",
              "    .colab-df-convert:hover {\n",
              "      background-color: #E2EBFA;\n",
              "      box-shadow: 0px 1px 2px rgba(60, 64, 67, 0.3), 0px 1px 3px 1px rgba(60, 64, 67, 0.15);\n",
              "      fill: #174EA6;\n",
              "    }\n",
              "\n",
              "    [theme=dark] .colab-df-convert {\n",
              "      background-color: #3B4455;\n",
              "      fill: #D2E3FC;\n",
              "    }\n",
              "\n",
              "    [theme=dark] .colab-df-convert:hover {\n",
              "      background-color: #434B5C;\n",
              "      box-shadow: 0px 1px 3px 1px rgba(0, 0, 0, 0.15);\n",
              "      filter: drop-shadow(0px 1px 2px rgba(0, 0, 0, 0.3));\n",
              "      fill: #FFFFFF;\n",
              "    }\n",
              "  </style>\n",
              "\n",
              "      <script>\n",
              "        const buttonEl =\n",
              "          document.querySelector('#df-05fd4698-f656-4b57-8a50-da28d652ce95 button.colab-df-convert');\n",
              "        buttonEl.style.display =\n",
              "          google.colab.kernel.accessAllowed ? 'block' : 'none';\n",
              "\n",
              "        async function convertToInteractive(key) {\n",
              "          const element = document.querySelector('#df-05fd4698-f656-4b57-8a50-da28d652ce95');\n",
              "          const dataTable =\n",
              "            await google.colab.kernel.invokeFunction('convertToInteractive',\n",
              "                                                     [key], {});\n",
              "          if (!dataTable) return;\n",
              "\n",
              "          const docLinkHtml = 'Like what you see? Visit the ' +\n",
              "            '<a target=\"_blank\" href=https://colab.research.google.com/notebooks/data_table.ipynb>data table notebook</a>'\n",
              "            + ' to learn more about interactive tables.';\n",
              "          element.innerHTML = '';\n",
              "          dataTable['output_type'] = 'display_data';\n",
              "          await google.colab.output.renderOutput(dataTable, element);\n",
              "          const docLink = document.createElement('div');\n",
              "          docLink.innerHTML = docLinkHtml;\n",
              "          element.appendChild(docLink);\n",
              "        }\n",
              "      </script>\n",
              "    </div>\n",
              "  </div>\n",
              "  "
            ]
          },
          "metadata": {},
          "execution_count": 5
        },
        {
          "output_type": "stream",
          "name": "stdout",
          "text": [
            "Warning: Total number of columns (385) exceeds max_columns (20) limiting to first (20) columns.\n"
          ]
        }
      ]
    },
    {
      "cell_type": "code",
      "source": [
        "df.info()"
      ],
      "metadata": {
        "colab": {
          "base_uri": "https://localhost:8080/"
        },
        "id": "76rV-T6XVOnV",
        "outputId": "a6658195-66db-40a5-85ae-6ea92be0e2fb"
      },
      "execution_count": 6,
      "outputs": [
        {
          "output_type": "stream",
          "name": "stdout",
          "text": [
            "<class 'pandas.core.frame.DataFrame'>\n",
            "RangeIndex: 2448 entries, 0 to 2447\n",
            "Columns: 385 entries, Unnamed: 0 to zucchini\n",
            "dtypes: int64(384), object(1)\n",
            "memory usage: 7.2+ MB\n"
          ]
        }
      ]
    },
    {
      "cell_type": "code",
      "source": [
        "df.cuisine.value_counts()"
      ],
      "metadata": {
        "colab": {
          "base_uri": "https://localhost:8080/"
        },
        "id": "Zjbyu7dkVlSH",
        "outputId": "6e55ef81-6cd9-456f-8ab5-44af5fee5ea2"
      },
      "execution_count": 8,
      "outputs": [
        {
          "output_type": "execute_result",
          "data": {
            "text/plain": [
              "korean      799\n",
              "indian      598\n",
              "chinese     442\n",
              "japanese    320\n",
              "thai        289\n",
              "Name: cuisine, dtype: int64"
            ]
          },
          "metadata": {},
          "execution_count": 8
        }
      ]
    }
  ]
}