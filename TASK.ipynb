{
  "nbformat": 4,
  "nbformat_minor": 0,
  "metadata": {
    "colab": {
      "name": "TASK.ipynb",
      "provenance": [],
      "authorship_tag": "ABX9TyP1qvi/KnlryWypT2zYXtue",
      "include_colab_link": true
    },
    "kernelspec": {
      "name": "python3",
      "display_name": "Python 3"
    },
    "language_info": {
      "name": "python"
    }
  },
  "cells": [
    {
      "cell_type": "markdown",
      "metadata": {
        "id": "view-in-github",
        "colab_type": "text"
      },
      "source": [
        "<a href=\"https://colab.research.google.com/github/varadmahatme/TASKS-ML-in-Python/blob/main/TASK.ipynb\" target=\"_parent\"><img src=\"https://colab.research.google.com/assets/colab-badge.svg\" alt=\"Open In Colab\"/></a>"
      ]
    },
    {
      "cell_type": "markdown",
      "source": [
        "Q 1)\n",
        "Given an array of integers nums and an integer target, return indices of the two numbers such that\n",
        "they add up to target. You may assume that each input would have exactly one solution, and you\n",
        "may not use the same element twice. You can return the answer in any order.\n",
        "\n",
        "Sample1:\n",
        "Input: nums = [2,7,11,15], target = 9\n",
        "Output: [0,1]\n",
        "Explanation: Because nums[0] + nums[1] == 9, we return [0, 1].\n",
        "Sample2:\n",
        "Input: nums = [3,2,4], target = 6\n",
        "Output: [1,2]"
      ],
      "metadata": {
        "id": "Us3aE8dHZ5KF"
      }
    },
    {
      "cell_type": "markdown",
      "source": [
        ""
      ],
      "metadata": {
        "id": "Xcb9Py3CzfyM"
      }
    },
    {
      "cell_type": "code",
      "execution_count": null,
      "metadata": {
        "colab": {
          "base_uri": "https://localhost:8080/"
        },
        "id": "pvSh_IVEZV-t",
        "outputId": "c77e0957-1e3e-42dd-e5d1-3a99245ea3a1"
      },
      "outputs": [
        {
          "output_type": "stream",
          "name": "stdout",
          "text": [
            "Enter number of elements : 4\n",
            "enter the 4 elements\n",
            "2\n",
            "7\n",
            "11\n",
            "15\n",
            "[2, 7, 11, 15]\n",
            "enter the target number9\n",
            "[0, 1]\n"
          ]
        }
      ],
      "source": [
        "\t\t\t\t\t\t\t\t\t\t\t\t\t\t\t\t\t\t\t\t\t\t\t\t\t\t\t\t\t# creating an empty list\n",
        "list = []\n",
        "list1 = []\n",
        "\t\t\t\t\t\t\t\t\t\t\t\t\t\t\t\t\t\t\t\t\t\t\t\t\t\t\t\t\t# number of elements as input\n",
        "n = int(input(\"Enter number of elements : \"))\n",
        "print(\"enter the\",n, \"elements\")\n",
        "target = int(input(\"enter the target number\")) \t\t\t\t\t\t#input the target number\n",
        "\n",
        "\t\t\t\t\t\t\t\t\t\t\t\t\t\t\t\t\t\t\t\t\t\t\t\t\t\t\t\t\t\n",
        "for i in range(0, n):\t\t\t\t\t\t\t\t\t\t\t\t\t\t\t\t\t\t\t# iterating till the range\n",
        "\tele = int(input())\n",
        "\n",
        "\tlist.append(ele) \t\t\t\t\t\t\t\t\t\t\t\t\t\t\t\t\t\t\t\t# adding the element\n",
        "\t\n",
        "print(list)\n",
        "\n",
        "for i in range(len(list)):                     \t\t\t\t\t\t#outer i loop till length of list                     \n",
        "    for j in range(i+1, len(list)):\t\t\t\t\t\t \t\t\t\t\t\t#inner j loop from i+1 till length of list\n",
        "        if list[i]+list[j] == target:\t\t\t\t\t\t\t\t\t\t\t#check condition if numbers add upto target\t\n",
        "            list1.append(i);list1.append(j);print(list1)\t#print the index of combination\n",
        "\t\t\t"
      ]
    },
    {
      "cell_type": "code",
      "source": [
        "\n",
        "target = int(input(\"enter the target number\")) #input the target number\n",
        "for i in range(len(list)):                     #outer i loop till length of list                     \n",
        "    for j in range(i+1, len(list)):            \n",
        "        if list[i]+list[j] == target:\n",
        "            print(list[i], list[j])"
      ],
      "metadata": {
        "colab": {
          "base_uri": "https://localhost:8080/"
        },
        "id": "0NgDnfk23xhO",
        "outputId": "63374f32-dd91-4e73-d847-9a6b5488b67a"
      },
      "execution_count": null,
      "outputs": [
        {
          "output_type": "stream",
          "name": "stdout",
          "text": [
            "enter the target number5\n",
            "1 4\n",
            "2 3\n"
          ]
        }
      ]
    },
    {
      "cell_type": "markdown",
      "source": [
        ""
      ],
      "metadata": {
        "id": "fQIsyeFCtVg4"
      }
    },
    {
      "cell_type": "markdown",
      "source": [
        "(Q 2)\n",
        "Write a program that takes an unsigned integer and returns the number of '1' bits it has (also known\n",
        "as the Hamming weight).\n",
        "Sample1:\n",
        "Input: n = 00000000000000000000000000001011\n",
        "Output: 3\n",
        "Explanation: The input binary string 00000000000000000000000000001011 has a total of three '1'\n",
        "bits.\n",
        "Sample2:\n",
        "Input: n = 11111111111111111111111111111101\n",
        "Output: 31\n",
        "Explanation: The input binary string 11111111111111111111111111111101 has a total of thirty one\n",
        "'1' bits."
      ],
      "metadata": {
        "id": "QuGgkgBhtfI-"
      }
    },
    {
      "cell_type": "code",
      "source": [
        "n = int(input(\"Enter the binary number\"))                 #enter the binary number                                                \n",
        "n = str(n)                                                #typecast to string\n",
        "\n",
        "count = 0                                                 #initialize the count to 0\n",
        "for i in n:                                               #start for loop in string n\n",
        " if i == \"1\":                                             #check condition if 1 is encountered\n",
        "   count+=1                                               #increment counter\n",
        "print(\"output: \",count)                                   #print the count"
      ],
      "metadata": {
        "colab": {
          "base_uri": "https://localhost:8080/"
        },
        "id": "zkmVMgnJthgC",
        "outputId": "938e98c3-2bb7-467a-fa71-63982c3c997f"
      },
      "execution_count": 4,
      "outputs": [
        {
          "output_type": "stream",
          "name": "stdout",
          "text": [
            "Enter the binary number00000000000000000000000000001011\n",
            "output:  3\n"
          ]
        }
      ]
    },
    {
      "cell_type": "code",
      "source": [
        ""
      ],
      "metadata": {
        "id": "Q-BFPJ5nzkQK"
      },
      "execution_count": null,
      "outputs": []
    },
    {
      "cell_type": "markdown",
      "source": [
        "for i in range(len(list)):\n",
        "    num = target-list[i]\n",
        "    for j in range(i+1, len(list)):\n",
        "        if list[j] == num:\n",
        "            print (list[i], list[j])\n",
        "PSEUDO code\n",
        "for i going till length of list\n",
        "target=num +list OR simply num = target - list[i]\n",
        "  for j going from i+1 to length of list\n",
        "  if the list[j] element is equal to the num \n",
        "    then print the elements"
      ],
      "metadata": {
        "id": "6OUGX3m-z-km"
      }
    },
    {
      "cell_type": "markdown",
      "source": [
        ""
      ],
      "metadata": {
        "id": "eJB3tpgT3_JJ"
      }
    },
    {
      "cell_type": "code",
      "source": [
        "import re\n",
        "\n",
        "python_file = 'file.py'\n",
        "work_file = None\n",
        "\n",
        "basic_conversion_rules = {\"for\": \"FOR\", \"=\": \"TO\", \"if\": \"IF\", \"==\": \"EQUALS\", \"while\": \"WHILE\", \"until\": \"UNTIL\", \"import\": \"IMPORT\", \"class\": \"DEFINE CLASS\", \"def\": \"DEFINE FUNCTION\", \"else:\": \"ELSE:\", \"elif\": \"ELSEIF\", \"except:\": \"EXCEPT:\", \"try:\": \"TRY:\", \"pass\": \"PASS\", \"in\": \"IN\"}\n",
        "prefix_conversion_rules = {\"=\": \"SET \", \"#F\": \"CALL \"}\n",
        "advanced_conversion_rules = {\"print\": \"OUTPUT\", \"return\": \"RETURN\", \"input\": \"INPUT\"}\n",
        "\n",
        "def f2list(to_list):\n",
        "    return to_list.readlines()\n",
        "\n",
        "def l2pseudo(to_pseudo):\n",
        "    for line in to_pseudo:\n",
        "        line_index = to_pseudo.index(line)\n",
        "        line = str(line)\n",
        "        line = re.split(r'(\\s+)', line)\n",
        "        for key, value in prefix_conversion_rules.items():\n",
        "            if key in line:\n",
        "                if not str(line[0]) == '':\n",
        "                    line[0] = value + line[0]\n",
        "                else:\n",
        "                    line[2] = value + line[2]\n",
        "        for key, value in basic_conversion_rules.items():\n",
        "            for word in line:\n",
        "                if key == str(word):\n",
        "                    line[line.index(word)] = value\n",
        "        for key, value in advanced_conversion_rules.items():\n",
        "            for word in line:\n",
        "                line[line.index(word)] = word.replace(key, value)\n",
        "        for key, value in prefix_conversion_rules.items():\n",
        "            for word in line:\n",
        "                if word == key:\n",
        "                    del line[line.index(word)]\n",
        "        to_pseudo[line_index]= \"\".join(line)\n",
        "    return(to_pseudo)\n",
        "\n",
        "def p2file(to_file):\n",
        "    file = open(python_file + '_pseudo.txt', 'w')\n",
        "    for line in to_file:\n",
        "        print(line, file=file)\n",
        "\n",
        "def main():\n",
        "    main_file = open(python_file, 'r+')\n",
        "    work_file = f2list(main_file)\n",
        "    work_file = l2pseudo(work_file)\n",
        "    p2file(work_file)\n",
        "    \n",
        "\n"
      ],
      "metadata": {
        "id": "FypLkC503y4O"
      },
      "execution_count": 5,
      "outputs": []
    },
    {
      "cell_type": "code",
      "source": [
        "\t#PSEUDO CODE\t\t\t\n",
        "\n",
        "''' \t\t\t\t\t\t\t\t\t\t\t\t\t\t\t\t\t\t\t\n",
        "list = []                                                 # creating two empty lists\n",
        "list1 = []\n",
        "\t\t\t\t\t\t\t\t\t\t\t\t\t\t\t\t\t\t\t\t\t\t\t\t\t\t\t\t\t# number of elements as input\n",
        "n = input(\"Enter number of elements : \")\n",
        "print(\"enter the\",n, \"elements\")\n",
        "target = input(\"enter the target number\")\t\t\t\t        \t#input the target number\n",
        "\n",
        "\t\t\t\t\t\t\t\t\t\t\t\t\t\t\t\t\t\t\t\t\t\t\t\t\t\t\t\t\t\n",
        "for i in range(0, n):\t\t\t\t\t\t\t\t\t\t\t\t\t\t\t\t\t\t\t# iterating till the range\n",
        "\tele = int(input())\n",
        "\n",
        "\tlist.append(ele) \t\t\t\t\t\t\t\t\t\t\t\t\t\t\t\t\t\t\t\t# adding the element\n",
        "\t\n",
        "print(list)\n",
        "\n",
        "for i in range(len(list)):                     \t\t\t\t\t\t#outer i loop till length of list                     \n",
        "    for j in range(i+1, len(list)):\t\t\t\t\t\t \t\t\t\t\t\t#inner j loop from i+1 till length of list\n",
        "        if list[i]+list[j] == target:\t\t\t\t\t\t\t\t\t\t\t#check condition if numbers add upto target\t\n",
        "            list1.append(i);list1.append(j);print(list1)\t#print the index of combination\n",
        "            '''"
      ],
      "metadata": {
        "id": "kBNwpcjJhLWO"
      },
      "execution_count": null,
      "outputs": []
    }
  ]
}