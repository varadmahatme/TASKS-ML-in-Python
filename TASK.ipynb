{
  "nbformat": 4,
  "nbformat_minor": 0,
  "metadata": {
    "colab": {
      "name": "TASK.ipynb",
      "provenance": [],
      "authorship_tag": "ABX9TyOSVZp0hkjKzOT9ptAYkKKd",
      "include_colab_link": true
    },
    "kernelspec": {
      "name": "python3",
      "display_name": "Python 3"
    },
    "language_info": {
      "name": "python"
    }
  },
  "cells": [
    {
      "cell_type": "markdown",
      "metadata": {
        "id": "view-in-github",
        "colab_type": "text"
      },
      "source": [
        "<a href=\"https://colab.research.google.com/github/varadmahatme/TASKS-ML-in-Python/blob/main/TASK.ipynb\" target=\"_parent\"><img src=\"https://colab.research.google.com/assets/colab-badge.svg\" alt=\"Open In Colab\"/></a>"
      ]
    },
    {
      "cell_type": "markdown",
      "source": [
        "Q 1)\n",
        "Given an array of integers nums and an integer target, return indices of the two numbers such that\n",
        "they add up to target. You may assume that each input would have exactly one solution, and you\n",
        "may not use the same element twice. You can return the answer in any order.\n",
        "\n",
        "Sample1:\n",
        "Input: nums = [2,7,11,15], target = 9\n",
        "Output: [0,1]\n",
        "Explanation: Because nums[0] + nums[1] == 9, we return [0, 1].\n",
        "Sample2:\n",
        "Input: nums = [3,2,4], target = 6\n",
        "Output: [1,2]"
      ],
      "metadata": {
        "id": "Us3aE8dHZ5KF"
      }
    },
    {
      "cell_type": "markdown",
      "source": [
        ""
      ],
      "metadata": {
        "id": "Xcb9Py3CzfyM"
      }
    },
    {
      "cell_type": "code",
      "execution_count": null,
      "metadata": {
        "colab": {
          "base_uri": "https://localhost:8080/"
        },
        "id": "pvSh_IVEZV-t",
        "outputId": "4b467838-5a06-40b8-d9f0-7c1f63df8027"
      },
      "outputs": [
        {
          "output_type": "stream",
          "name": "stdout",
          "text": [
            "Enter number of elements : 5\n",
            "1\n",
            "2\n",
            "3\n",
            "4\n",
            "5\n",
            "[1, 2, 3, 4, 5]\n"
          ]
        }
      ],
      "source": [
        "# creating an empty list\n",
        "list = []\n",
        "\n",
        "# number of elements as input\n",
        "n = int(input(\"Enter number of elements : \"))\n",
        "\n",
        "# iterating till the range\n",
        "for i in range(0, n):\n",
        "\tele = int(input())\n",
        "\n",
        "\tlist.append(ele) # adding the element\n",
        "\t\n",
        "print(list)\n"
      ]
    },
    {
      "cell_type": "code",
      "source": [
        "\n",
        "target = int(input(\"enter the target number\")) \n",
        "for i in range(len(list)):\n",
        "    num = target-list[i]\n",
        "    for j in range(i+1, len(list)):\n",
        "        if list[j] == num:\n",
        "            print (list[i], list[j])"
      ],
      "metadata": {
        "colab": {
          "base_uri": "https://localhost:8080/"
        },
        "id": "0NgDnfk23xhO",
        "outputId": "7c0cb79b-da50-47b4-8fbc-e71f22ed0045"
      },
      "execution_count": null,
      "outputs": [
        {
          "output_type": "stream",
          "name": "stdout",
          "text": [
            "enter the target number7\n",
            "2 5\n",
            "3 4\n"
          ]
        }
      ]
    },
    {
      "cell_type": "markdown",
      "source": [
        ""
      ],
      "metadata": {
        "id": "fQIsyeFCtVg4"
      }
    },
    {
      "cell_type": "markdown",
      "source": [
        "(Q 2)\n",
        "Write a program that takes an unsigned integer and returns the number of '1' bits it has (also known\n",
        "as the Hamming weight).\n",
        "Sample1:\n",
        "Input: n = 00000000000000000000000000001011\n",
        "Output: 3\n",
        "Explanation: The input binary string 00000000000000000000000000001011 has a total of three '1'\n",
        "bits.\n",
        "Sample2:\n",
        "Input: n = 11111111111111111111111111111101\n",
        "Output: 31\n",
        "Explanation: The input binary string 11111111111111111111111111111101 has a total of thirty one\n",
        "'1' bits."
      ],
      "metadata": {
        "id": "QuGgkgBhtfI-"
      }
    },
    {
      "cell_type": "code",
      "source": [
        "n = int(input(\"Enter the binary number\"))\n",
        "print(\"the number entered is:\")\n",
        "print(n)\n",
        "n = str(n)\n",
        "print(\"the string representation of the number is:\")\n",
        "print(n)\n",
        "\n",
        "count = 0\n",
        "for i in n:\n",
        " if i == \"1\":\n",
        "   count+=1\n",
        "print(count)"
      ],
      "metadata": {
        "colab": {
          "base_uri": "https://localhost:8080/"
        },
        "id": "zkmVMgnJthgC",
        "outputId": "66b8a1d2-c6c4-49e8-e825-4861ec4d3302"
      },
      "execution_count": null,
      "outputs": [
        {
          "output_type": "stream",
          "name": "stdout",
          "text": [
            "Enter the binary number101011\n",
            "the number entered is:\n",
            "101011\n",
            "the string representation of the number is:\n",
            "101011\n",
            "4\n"
          ]
        }
      ]
    },
    {
      "cell_type": "code",
      "source": [
        ""
      ],
      "metadata": {
        "id": "Q-BFPJ5nzkQK"
      },
      "execution_count": null,
      "outputs": []
    },
    {
      "cell_type": "markdown",
      "source": [
        "for i in range(len(list)):\n",
        "    num = target-list[i]\n",
        "    for j in range(i+1, len(list)):\n",
        "        if list[j] == num:\n",
        "            print (list[i], list[j])\n",
        "PSEUDO code\n",
        "for i going till length of list\n",
        "target=num +list OR simply num = target - list[i]\n",
        "  for j"
      ],
      "metadata": {
        "id": "6OUGX3m-z-km"
      }
    },
    {
      "cell_type": "markdown",
      "source": [
        ""
      ],
      "metadata": {
        "id": "eJB3tpgT3_JJ"
      }
    },
    {
      "cell_type": "code",
      "source": [
        "import re\n",
        "\n",
        "python_file = 'file.py'\n",
        "work_file = None\n",
        "\n",
        "basic_conversion_rules = {\"for\": \"FOR\", \"=\": \"TO\", \"if\": \"IF\", \"==\": \"EQUALS\", \"while\": \"WHILE\", \"until\": \"UNTIL\", \"import\": \"IMPORT\", \"class\": \"DEFINE CLASS\", \"def\": \"DEFINE FUNCTION\", \"else:\": \"ELSE:\", \"elif\": \"ELSEIF\", \"except:\": \"EXCEPT:\", \"try:\": \"TRY:\", \"pass\": \"PASS\", \"in\": \"IN\"}\n",
        "prefix_conversion_rules = {\"=\": \"SET \", \"#F\": \"CALL \"}\n",
        "advanced_conversion_rules = {\"print\": \"OUTPUT\", \"return\": \"RETURN\", \"input\": \"INPUT\"}\n",
        "\n",
        "def f2list(to_list):\n",
        "    return to_list.readlines()\n",
        "\n",
        "def l2pseudo(to_pseudo):\n",
        "    for line in to_pseudo:\n",
        "        line_index = to_pseudo.index(line)\n",
        "        line = str(line)\n",
        "        line = re.split(r'(\\s+)', line)\n",
        "        for key, value in prefix_conversion_rules.items():\n",
        "            if key in line:\n",
        "                if not str(line[0]) == '':\n",
        "                    line[0] = value + line[0]\n",
        "                else:\n",
        "                    line[2] = value + line[2]\n",
        "        for key, value in basic_conversion_rules.items():\n",
        "            for word in line:\n",
        "                if key == str(word):\n",
        "                    line[line.index(word)] = value\n",
        "        for key, value in advanced_conversion_rules.items():\n",
        "            for word in line:\n",
        "                line[line.index(word)] = word.replace(key, value)\n",
        "        for key, value in prefix_conversion_rules.items():\n",
        "            for word in line:\n",
        "                if word == key:\n",
        "                    del line[line.index(word)]\n",
        "        to_pseudo[line_index]= \"\".join(line)\n",
        "    return(to_pseudo)\n",
        "\n",
        "def p2file(to_file):\n",
        "    file = open(python_file + '_pseudo.txt', 'w')\n",
        "    for line in to_file:\n",
        "        print(line, file=file)\n",
        "\n",
        "def main():\n",
        "    main_file = open(python_file, 'r+')\n",
        "    work_file = f2list(main_file)\n",
        "    work_file = l2pseudo(work_file)\n",
        "    p2file(work_file)\n",
        "    \n",
        "\n"
      ],
      "metadata": {
        "id": "FypLkC503y4O"
      },
      "execution_count": 2,
      "outputs": []
    }
  ]
}