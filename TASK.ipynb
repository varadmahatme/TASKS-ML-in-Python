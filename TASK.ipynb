{
  "nbformat": 4,
  "nbformat_minor": 0,
  "metadata": {
    "colab": {
      "name": "TASK.ipynb",
      "provenance": [],
      "authorship_tag": "ABX9TyPGP7+k8iBLbRv/uLLdrdfK",
      "include_colab_link": true
    },
    "kernelspec": {
      "name": "python3",
      "display_name": "Python 3"
    },
    "language_info": {
      "name": "python"
    }
  },
  "cells": [
    {
      "cell_type": "markdown",
      "metadata": {
        "id": "view-in-github",
        "colab_type": "text"
      },
      "source": [
        "<a href=\"https://colab.research.google.com/github/varadmahatme/TASKS-ML-in-Python/blob/main/TASK.ipynb\" target=\"_parent\"><img src=\"https://colab.research.google.com/assets/colab-badge.svg\" alt=\"Open In Colab\"/></a>"
      ]
    },
    {
      "cell_type": "markdown",
      "source": [
        "Q 1)\n",
        "Given an array of integers nums and an integer target, return indices of the two numbers such that\n",
        "they add up to target. You may assume that each input would have exactly one solution, and you\n",
        "may not use the same element twice. You can return the answer in any order.\n",
        "\n",
        "Sample1:\n",
        "Input: nums = [2,7,11,15], target = 9\n",
        "Output: [0,1]\n",
        "Explanation: Because nums[0] + nums[1] == 9, we return [0, 1].\n",
        "Sample2:\n",
        "Input: nums = [3,2,4], target = 6\n",
        "Output: [1,2]"
      ],
      "metadata": {
        "id": "Us3aE8dHZ5KF"
      }
    },
    {
      "cell_type": "code",
      "execution_count": null,
      "metadata": {
        "colab": {
          "base_uri": "https://localhost:8080/"
        },
        "id": "pvSh_IVEZV-t",
        "outputId": "4b467838-5a06-40b8-d9f0-7c1f63df8027"
      },
      "outputs": [
        {
          "output_type": "stream",
          "name": "stdout",
          "text": [
            "Enter number of elements : 5\n",
            "1\n",
            "2\n",
            "3\n",
            "4\n",
            "5\n",
            "[1, 2, 3, 4, 5]\n"
          ]
        }
      ],
      "source": [
        "# creating an empty list\n",
        "list = []\n",
        "\n",
        "# number of elements as input\n",
        "n = int(input(\"Enter number of elements : \"))\n",
        "\n",
        "# iterating till the range\n",
        "for i in range(0, n):\n",
        "\tele = int(input())\n",
        "\n",
        "\tlist.append(ele) # adding the element\n",
        "\t\n",
        "print(list)\n"
      ]
    },
    {
      "cell_type": "code",
      "source": [
        "\n",
        "target = int(input(\"enter the target number\")) \n",
        "for i in range(len(list)):\n",
        "    num = target-list[i]\n",
        "    for j in range(i+1, len(list)):\n",
        "        if list[j] == num:\n",
        "            print (list[i], list[j])"
      ],
      "metadata": {
        "colab": {
          "base_uri": "https://localhost:8080/"
        },
        "id": "0NgDnfk23xhO",
        "outputId": "7c0cb79b-da50-47b4-8fbc-e71f22ed0045"
      },
      "execution_count": null,
      "outputs": [
        {
          "output_type": "stream",
          "name": "stdout",
          "text": [
            "enter the target number7\n",
            "2 5\n",
            "3 4\n"
          ]
        }
      ]
    },
    {
      "cell_type": "markdown",
      "source": [
        ""
      ],
      "metadata": {
        "id": "fQIsyeFCtVg4"
      }
    },
    {
      "cell_type": "markdown",
      "source": [
        "(Q 2)\n",
        "Write a program that takes an unsigned integer and returns the number of '1' bits it has (also known\n",
        "as the Hamming weight).\n",
        "Sample1:\n",
        "Input: n = 00000000000000000000000000001011\n",
        "Output: 3\n",
        "Explanation: The input binary string 00000000000000000000000000001011 has a total of three '1'\n",
        "bits.\n",
        "Sample2:\n",
        "Input: n = 11111111111111111111111111111101\n",
        "Output: 31\n",
        "Explanation: The input binary string 11111111111111111111111111111101 has a total of thirty one\n",
        "'1' bits."
      ],
      "metadata": {
        "id": "QuGgkgBhtfI-"
      }
    },
    {
      "cell_type": "code",
      "source": [
        "n = int(input(\"Enter the binary number\"))\n",
        "print(\"the number entered is:\")\n",
        "print(n)\n",
        "n = str(n)\n",
        "print(\"the string representation of the number is:\")\n",
        "print(n)\n",
        "\n",
        "count = 0\n",
        "for i in n:\n",
        " if i == \"1\":\n",
        "   count+=1\n",
        "print(count)"
      ],
      "metadata": {
        "colab": {
          "base_uri": "https://localhost:8080/"
        },
        "id": "zkmVMgnJthgC",
        "outputId": "66b8a1d2-c6c4-49e8-e825-4861ec4d3302"
      },
      "execution_count": 16,
      "outputs": [
        {
          "output_type": "stream",
          "name": "stdout",
          "text": [
            "Enter the binary number101011\n",
            "the number entered is:\n",
            "101011\n",
            "the string representation of the number is:\n",
            "101011\n",
            "4\n"
          ]
        }
      ]
    },
    {
      "cell_type": "code",
      "source": [
        ""
      ],
      "metadata": {
        "id": "Q-BFPJ5nzkQK"
      },
      "execution_count": null,
      "outputs": []
    }
  ]
}